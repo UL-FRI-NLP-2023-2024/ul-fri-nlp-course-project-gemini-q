{
 "cells": [
  {
   "cell_type": "code",
   "execution_count": 3,
   "metadata": {},
   "outputs": [
    {
     "name": "stdout",
     "output_type": "stream",
     "text": [
      "Alergije, Astma in KOPB, bolezni pljuč, Bolezni ščitnice, Bolezni sečil in ledvic, Bolezni starostnikov, Cepljenje, Črevesje in hemoroidi, Depresija, Diabetes, Diagnostika, Diete in hujšanje, Duševne bolezni, Ginekologija in porodništvo, Hematologija, HPV in rak materničnega vratu, Kožne bolezni, Medicinska hiponoza, Motnje hranjenja, Multipla skleroza, Multipla skleroza, Nevrologija, Oči, Operacije, Ortopedija, Osebnostna rast, Osteoporoza, Otroške bolezni, Parkinsonova bolezen, Partnerski odnosi in samsko življenje, Plastična in estetska kirurgija, Počutje in lepota, Poklicne in redke bolezni, Prehlad, gripa in bakterijska vnetja, Prehranski dodatki in dopolnila, Presejalni program Zora, Proktologija, Rak, Rehabilitacija, Rekreacija, Revmatologija, Samozdravljenje, Seks, Seksualna zasvojenost, Spolne bolezni, Srce in ožilje, Težave v spolnosti, Težave z želodcem, Urologija, Vse ostalo kar vas žuli, Vzgoja otrok, Zastrupitve in prva pomoč, Zasvojenost z alkoholom, drogami in tabletami, Zdrava hrana, Zdravje zob, zobna estetika, Zelišča in zdravilne rastline, Življenje s starostnikom, "
     ]
    }
   ],
   "source": [
    "import requests\n",
    "from bs4 import BeautifulSoup\n",
    "import json\n",
    "\n",
    "\n",
    "# Step 1: Send a GET request to the website\n",
    "url = 'https://viva.bhc.si/strokovnjaki/vsi/'\n",
    "\n",
    "# get all the data from the website and extract all <h3> with class=\"grouptitle\"\n",
    "response = requests.get(url)\n",
    "soup = BeautifulSoup(response.text, 'html.parser')\n",
    "grouptitle = soup.find_all('h3', class_='grouptitle')\n",
    "\n",
    "#extract only the text from the <h3> tags, print with commas\n",
    "for i in grouptitle:\n",
    "    print(i.text, end=', ')\n"
   ]
  }
 ],
 "metadata": {
  "kernelspec": {
   "display_name": "Python 3",
   "language": "python",
   "name": "python3"
  },
  "language_info": {
   "codemirror_mode": {
    "name": "ipython",
    "version": 3
   },
   "file_extension": ".py",
   "mimetype": "text/x-python",
   "name": "python",
   "nbconvert_exporter": "python",
   "pygments_lexer": "ipython3",
   "version": "3.12.2"
  }
 },
 "nbformat": 4,
 "nbformat_minor": 2
}
