{
 "cells": [
  {
   "cell_type": "code",
   "execution_count": 7,
   "metadata": {},
   "outputs": [],
   "source": [
    "import json\n",
    "\n",
    "with open('../filter-scrapers-data/final-data/viva-data-final.json') as f:\n",
    "    vivadata = json.load(f)\n",
    "\n",
    "with open(\"../filter-scrapers-data//final-data/vizita-si-data-final.json\") as f:\n",
    "    vizitadata = json.load(f)\n",
    "\n",
    "with open(\"../filter-scrapers-data//final-data/med-over-net-data-final.json\") as f:\n",
    "    medovernetdata = json.load(f)"
   ]
  },
  {
   "cell_type": "code",
   "execution_count": 8,
   "metadata": {},
   "outputs": [],
   "source": [
    "combine = []\n",
    "\n",
    "for viva in vivadata:\n",
    "    combine.append({\"title\": viva[\"title\"], \"question\": viva[\"question\"], \"answer\": viva[\"answer\"]})\n",
    "\n",
    "\n",
    "for vizita in vizitadata:\n",
    "    combine.append(\n",
    "        {\"title\": vizita[\"title\"], \"question\": vizita[\"question\"], \"answer\": vizita[\"answer\"]}\n",
    "    )\n",
    "\n",
    "for medover in medovernetdata:\n",
    "    combine.append(\n",
    "        {\n",
    "            \"title\": medover[\"forum\"] + \": \" + medover[\"forum_name\"],\n",
    "            \"question\": medover[\"forum_data\"][0][\"content\"],\n",
    "            \"answer\": medover[\"forum_data\"][1][\"content\"],\n",
    "        }\n",
    "    )"
   ]
  },
  {
   "cell_type": "code",
   "execution_count": 9,
   "metadata": {},
   "outputs": [
    {
     "data": {
      "text/plain": [
       "(49882, 2422, 24894, 22566)"
      ]
     },
     "execution_count": 9,
     "metadata": {},
     "output_type": "execute_result"
    }
   ],
   "source": [
    "len(combine), len(vivadata), len(vizitadata), len(medovernetdata)"
   ]
  },
  {
   "cell_type": "code",
   "execution_count": 10,
   "metadata": {},
   "outputs": [],
   "source": [
    "import random\n",
    "random.shuffle(combine)"
   ]
  },
  {
   "cell_type": "code",
   "execution_count": 11,
   "metadata": {},
   "outputs": [],
   "source": [
    "with open(\"combine.json\", \"w\", encoding=\"utf-8\") as f:\n",
    "    json.dump(combine, f, ensure_ascii=False, indent=4)"
   ]
  }
 ],
 "metadata": {
  "kernelspec": {
   "display_name": "base",
   "language": "python",
   "name": "python3"
  },
  "language_info": {
   "codemirror_mode": {
    "name": "ipython",
    "version": 3
   },
   "file_extension": ".py",
   "mimetype": "text/x-python",
   "name": "python",
   "nbconvert_exporter": "python",
   "pygments_lexer": "ipython3",
   "version": "3.12.2"
  }
 },
 "nbformat": 4,
 "nbformat_minor": 2
}
